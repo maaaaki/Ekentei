{
 "cells": [
  {
   "cell_type": "markdown",
   "metadata": {
    "colab_type": "text",
    "id": "glVQVfkPiRB5"
   },
   "source": [
    "# 全人類がわかるディープラーニング Day2演習（解答）\n",
    "\n",
    "## 概要\n",
    "\n",
    "本演習では深層学習の基礎である正則化に関する内容を穴埋め形式で実装します。なお、予め用意されたコード（訓練用・テスト用データの取得、ミニバッチ学習など）はそのまま使用し、指示された穴埋め部を編集してください。\n",
    "演習問題は全6問、問題文は<font color=\"Red\">赤字</font>です。\n",
    "\n",
    "所要時間：2~5時間"
   ]
  },
  {
   "cell_type": "markdown",
   "metadata": {
    "colab_type": "text",
    "id": "eyO9me9DiRB6"
   },
   "source": [
    "### ライブラリのインポート\n",
    "\n",
    "必要なライブラリをインポートします。エラーになる場合は該当するものをインストールしてください。"
   ]
  },
  {
   "cell_type": "code",
   "execution_count": null,
   "metadata": {
    "colab": {},
    "colab_type": "code",
    "id": "gUxGZ6PviRB6"
   },
   "outputs": [],
   "source": [
    "import csv\n",
    "import os\n",
    "import pickle\n",
    "import matplotlib.pyplot as plt\n",
    "from mpl_toolkits.mplot3d import Axes3D\n",
    "import numpy as np\n",
    "from sklearn import datasets\n",
    "from sklearn.model_selection import train_test_split\n",
    "\n",
    "\n",
    "# 乱数シードを指定\n",
    "np.random.seed(seed=0)"
   ]
  },
  {
   "cell_type": "markdown",
   "metadata": {
    "colab_type": "text",
    "id": "xLrrfLGOiRB9"
   },
   "source": [
    "### データの読み込み・線形結合層などの定義\n",
    "\n",
    "Day1演習と共通しているので、読み飛ばしていただいて構いません。"
   ]
  },
  {
   "cell_type": "code",
   "execution_count": null,
   "metadata": {
    "colab": {},
    "colab_type": "code",
    "id": "LYa_9olwiRB9"
   },
   "outputs": [],
   "source": [
    "# mnistデータセットのロード(ネットワーク接続が必要・少し時間がかかります)\n",
    "if os.path.exists('mnist_784'):\n",
    "    with open('mnist_784','rb') as f:\n",
    "        mnist = pickle.load(f)\n",
    "else:\n",
    "    mnist = datasets.fetch_openml('mnist_784')\n",
    "    with open('mnist_784', 'wb') as f:\n",
    "        pickle.dump(mnist, f)\n",
    "    \n",
    "# 画像とラベルを取得\n",
    "X, T = mnist.data, mnist.target\n",
    "# 訓練データとテストデータに分割\n",
    "X_train, X_test, T_train, T_test = train_test_split(X, T, test_size=0.2)\n",
    "# ラベルデータをint型にし、one-hot-vectorに変換します\n",
    "T_train = np.eye(10)[T_train.astype(\"int\")]\n",
    "T_test = np.eye(10)[T_test.astype(\"int\")]"
   ]
  },
  {
   "cell_type": "code",
   "execution_count": null,
   "metadata": {
    "colab": {},
    "colab_type": "code",
    "id": "lstMvCDciRB_",
    "scrolled": true
   },
   "outputs": [],
   "source": [
    "class FullyConnectedLayer():\n",
    "    def __init__(self, input_shape, output_shape):\n",
    "        self.w = np.random.randn(input_shape, output_shape) * 0.01\n",
    "        self.b = np.zeros(output_shape, dtype=np.float)\n",
    "        self.x = None\n",
    "        self.dw = None\n",
    "        self.db = None\n",
    "        \n",
    "    def __call__(self, x):\n",
    "        self.x = x\n",
    "        out = np.dot(self.x, self.w) + self.b\n",
    "        return out\n",
    "    \n",
    "    def backward(self, dout):\n",
    "        dx = np.dot(dout, self.w.T)\n",
    "        batch_size = dx.shape[0]\n",
    "        self.dw = np.dot(self.x.T, dout)\n",
    "        self.db = np.sum(dout, axis=0)\n",
    "        return dx"
   ]
  },
  {
   "cell_type": "code",
   "execution_count": null,
   "metadata": {
    "colab": {},
    "colab_type": "code",
    "id": "DuvTwTDHiRCB"
   },
   "outputs": [],
   "source": [
    "class SoftmaxCrossEntropyLoss():\n",
    "    def __init__(self):\n",
    "        self.y = None\n",
    "        self.t = None\n",
    "        self.loss = None\n",
    "        \n",
    "    def __call__(self, t, y):\n",
    "        self.y = softmax(y)\n",
    "        self.t = t.copy()\n",
    "        self.loss = cross_entropy_error(self.t, self.y)\n",
    "        return self.loss\n",
    "    \n",
    "    def backward(self):\n",
    "        batch_size = self.t.shape[0]\n",
    "        dy = self.y - self.t\n",
    "        dy /= batch_size\n",
    "        return dy"
   ]
  },
  {
   "cell_type": "code",
   "execution_count": null,
   "metadata": {
    "colab": {},
    "colab_type": "code",
    "id": "AkFgIz31iRCC"
   },
   "outputs": [],
   "source": [
    "def softmax(x):\n",
    "    x = x.T\n",
    "    _x = x - np.max(x, axis=0)\n",
    "    _x = np.exp(_x) / np.sum(np.exp(_x), axis=0)\n",
    "    return _x.T"
   ]
  },
  {
   "cell_type": "code",
   "execution_count": null,
   "metadata": {
    "colab": {},
    "colab_type": "code",
    "id": "uWKKgvYNiRCE"
   },
   "outputs": [],
   "source": [
    "def cross_entropy_error(t, y):\n",
    "    delta = 1e-8\n",
    "    error = -np.mean(t * np.log(y + delta))\n",
    "    return error"
   ]
  },
  {
   "cell_type": "code",
   "execution_count": null,
   "metadata": {
    "colab": {},
    "colab_type": "code",
    "id": "aG2xdW1UiRCG"
   },
   "outputs": [],
   "source": [
    "class ReLU():\n",
    "    def __init__(self):\n",
    "        self.mask = None\n",
    "\n",
    "    def __call__(self, x):\n",
    "        self.mask = (x <= 0)\n",
    "        out = x.copy()\n",
    "        out[self.mask] = 0\n",
    "        return out\n",
    "\n",
    "    def backward(self, dout):\n",
    "        dout[self.mask] = 0\n",
    "        dx = dout\n",
    "\n",
    "        return dx"
   ]
  },
  {
   "cell_type": "markdown",
   "metadata": {
    "colab_type": "text",
    "id": "7avIYf8yiRCI"
   },
   "source": [
    "### ドロップアウト\n",
    "\n",
    "1. <font color=\"Red\">ドロップアウトクラスを完成させてください。</font>\n",
    "    - 入力されてきた ```x``` に対し、確率 ```dropout_ratio``` で出力を0にする。\n",
    "ヒント：xと同じサイズの乱数"
   ]
  },
  {
   "cell_type": "code",
   "execution_count": null,
   "metadata": {
    "colab": {},
    "colab_type": "code",
    "id": "PZI6Fc4aiRCI"
   },
   "outputs": [],
   "source": [
    "class Dropout():\n",
    "    def __init__(self, dropout_ratio=0.5):\n",
    "        self.dropout_ratio = dropout_ratio\n",
    "        self.mask = None\n",
    "\n",
    "    def __call__(self, x, train_flg=True):\n",
    "        if train_flg:\n",
    "            randommatrix = np.random.rand(*x.shape)\n",
    "            self.mask = #### 問1 ####\n",
    "            return x * self.mask\n",
    "        else:\n",
    "            return x * (1.0 - self.dropout_ratio)\n",
    "\n",
    "    def backward(self, dout):\n",
    "        return dout * self.mask"
   ]
  },
  {
   "cell_type": "markdown",
   "metadata": {
    "colab_type": "text",
    "id": "Ye_lJcI7iRCL"
   },
   "source": [
    "### パラメータノルムペナルティ\n",
    "\n",
    "2-1. <font color=\"Red\">ベクトル・行列に対してLpノルムを計算する関数```lp_norm```を完成させなさい。</font>\n",
    "    - xはnumpyの任意の長さの配列を使用できるようにする。\n",
    "    - 使用出来るnumpyの関数はabsとsumのみとする。  \n"
   ]
  },
  {
   "cell_type": "code",
   "execution_count": null,
   "metadata": {
    "colab": {},
    "colab_type": "code",
    "id": "Di8trkn-iRCM"
   },
   "outputs": [],
   "source": [
    "def lp_norm(x, p=2):\n",
    "    return #### 問2-1 ####"
   ]
  },
  {
   "cell_type": "markdown",
   "metadata": {
    "colab_type": "text",
    "id": "p3q8v5WdiRCP"
   },
   "source": [
    "2-2. <font color=\"Red\">```dropout```クラスと```lp_norm```関数を使用し、ドロップアウトとL2ノルム正則化（重み減衰）を含めた以下のネットワークを完成させなさい。</font>\n",
    "\n",
    "- 損失関数に $ \\frac{\\lambda}{2}\\|w\\|_2^2 $を正則化項として加える。"
   ]
  },
  {
   "cell_type": "code",
   "execution_count": null,
   "metadata": {
    "colab": {},
    "colab_type": "code",
    "id": "NGJpzPzDiRCQ"
   },
   "outputs": [],
   "source": [
    "class MLP_classifier():\n",
    "\n",
    "    def __init__(self, weight_decay_lambda=0):\n",
    "        '''\n",
    "        構造\n",
    "        x -> fc(783, 256) -> relu -> dropout -> fc(256, 256) -> relu -> dropout -> fc(256, 10) -> out\n",
    "        '''\n",
    "        \n",
    "        # 層の定義\n",
    "        self.fc1 = FullyConnectedLayer(784, 256)\n",
    "        self.relu1 = ReLU()\n",
    "        self.dropout1 = Dropout()\n",
    "        self.fc2 = FullyConnectedLayer(256, 256)\n",
    "        self.relu2 = ReLU()\n",
    "        self.dropout2 = Dropout()\n",
    "        self.fc3 = FullyConnectedLayer(256, 10)\n",
    "        self.out = None\n",
    "        \n",
    "        # 損失関数の定義\n",
    "        self.criterion = SoftmaxCrossEntropyLoss()\n",
    "        self.weight_decay_lambda = weight_decay_lambda\n",
    "\n",
    "    def forward(self, x, train_flg=True):\n",
    "        '''\n",
    "        順伝播\n",
    "        '''\n",
    "        \n",
    "        x = self.relu1(self.fc1(x))\n",
    "        x = self.dropout1(x, train_flg)\n",
    "        x = self.relu2(self.fc2(x))\n",
    "        x = self.dropout2(x, train_flg)\n",
    "        self.out = self.fc3(x)\n",
    "        \n",
    "        # 勾配計算の都合上softmaxはこの順伝播関数内では行わない\n",
    "        # 予測するときはさらにsoftmaxを通す必要がある\n",
    "        return self.out\n",
    "    \n",
    "    def loss(self, x, t):\n",
    "        loss = self.criterion(t, self.forward(x))\n",
    "        for fc in [self.fc1, self.fc2, self.fc3]:\n",
    "            loss += #### 問2-2-1　####\n",
    "        return loss\n",
    "\n",
    "    def backward(self):\n",
    "        '''\n",
    "        逆伝播\n",
    "        '''\n",
    "        # 勾配を逆伝播\n",
    "        d = self.criterion.backward()\n",
    "        d = self.fc3.backward(d)\n",
    "        d = self.dropout2.backward(d)\n",
    "        d = self.relu2.backward(d)\n",
    "        d = self.fc2.backward(d)\n",
    "        d = self.dropout1.backward(d)\n",
    "        d = self.relu1.backward(d)\n",
    "        d = self.fc1.backward(d)\n",
    "        \n",
    "        for fc in [self.fc1, self.fc2, self.fc3]:\n",
    "            fc.dw += #### 問2-2-2 ####\n",
    "\n",
    "    def optimize_GradientDecent(self, lr):\n",
    "        '''\n",
    "        勾配降下法による全層のパラメータの更新\n",
    "        '''\n",
    "        for fc in [self.fc1, self.fc2, self.fc3]:\n",
    "            fc.w -= lr * fc.dw\n",
    "            fc.b -= lr * fc.db"
   ]
  },
  {
   "cell_type": "markdown",
   "metadata": {
    "colab_type": "text",
    "id": "re4enTp8iRCT"
   },
   "source": [
    "### 学習\n",
    "train_loss が1.4前後、accuracyが80%前後になっていれば学習成功です。\n",
    "\n",
    "今回はモデルが単純なので、重み減衰やドロップアウトを加えてもあまり効果を実感できませんが、CNNなどの複雑なモデルになると正則化処理は必須になてきます。"
   ]
  },
  {
   "cell_type": "code",
   "execution_count": null,
   "metadata": {
    "colab": {},
    "colab_type": "code",
    "id": "9zzq5OEIiRCT"
   },
   "outputs": [],
   "source": [
    "# モデルの宣言\n",
    "model = MLP_classifier(weight_decay_lambda=0.1)\n",
    "\n",
    "# 学習率\n",
    "lr = 0.02\n",
    "# 学習エポック数\n",
    "n_epoch = 30\n",
    "\n",
    "# n_epoch繰り返す\n",
    "for n in range(n_epoch):\n",
    "    loss = model.loss(X_train, T_train)    \n",
    "    model.backward()\n",
    "    \n",
    "    model.optimize_GradientDecent(lr)\n",
    "        \n",
    "    # テスト\n",
    "    y = model.forward(X_test, train_flg=False)\n",
    "    pred = softmax(y)\n",
    "    accuracy = np.mean(np.equal(np.argmax(y, axis=1), np.argmax(T_test, axis=1)))\n",
    "    \n",
    "    print(f'EPOCH {n + 1} | TRAIN LOSS {loss:.5f} | ACCURACY {accuracy:.2%}')"
   ]
  },
  {
   "cell_type": "markdown",
   "metadata": {
    "colab_type": "text",
    "id": "wKLIVhDCiRCV"
   },
   "source": [
    "### データ拡張\n",
    "以下のコードを活用し、各問題で指定された画像変換を行う関数を作り、次で読み込んだ画像（image）を元に拡張データを作り表示するプログラムを作りなさい。"
   ]
  },
  {
   "cell_type": "code",
   "execution_count": null,
   "metadata": {
    "colab": {},
    "colab_type": "code",
    "id": "6i00-GXoiRCW"
   },
   "outputs": [],
   "source": [
    "# numpyで画像処理を行う準備\n",
    "import numpy as np\n",
    "from PIL import Image\n",
    "# 画像読み込み(224×224ピクセルのサンプル画像)\n",
    "image = np.array(Image.open('./img/rabbit.jpg'))\n",
    "# 画像表示のためにmatplotlibを利用\n",
    "from matplotlib import pylab as plt\n",
    "# 原画像の表示\n",
    "plt.imshow( image )\n",
    "plt.show()\n",
    "# 出力される\n",
    "print(\"画素数とチャンネル数：\",image.shape)\n",
    "# 画像のデータ\n",
    "print(image)"
   ]
  },
  {
   "cell_type": "markdown",
   "metadata": {
    "colab_type": "text",
    "id": "0sY4wFe_iRCX"
   },
   "source": [
    "3. <font color=\"Red\">画像のRGBを反転させる関数 __get_negative__ を作り、imageの画像のネガティブ画像を生成し表示しなさい。</font>\n",
    "    - 引数は画像（image）のみとする  \n",
    "    - 引数として与えられた画像のネガティブ画像を戻り値として返す\n",
    "    - ただし、引数として与えられた元の画像は変化させないこと  \n",
    "ヒント:画素の成分の最大値は255。最大値から画素の値を引いた値がネガティブな画素の値となる  \n",
    "\n",
    "![実行結果：ネガティブ画像](img/negative.png)  "
   ]
  },
  {
   "cell_type": "code",
   "execution_count": null,
   "metadata": {
    "colab": {},
    "colab_type": "code",
    "id": "dRYObTVOiRCY"
   },
   "outputs": [],
   "source": [
    "def get_negative(image):\n",
    "    # イメージをコピー\n",
    "    new_image = image.copy()\n",
    "    new_image = ###### 問3 ######\n",
    "    return new_image\n",
    "\n",
    "print(\"ネガティブ画像\")\n",
    "image_2 = get_negative(image)\n",
    "plt.imshow( image_2 )\n",
    "plt.show()"
   ]
  },
  {
   "cell_type": "markdown",
   "metadata": {
    "colab_type": "text",
    "id": "hgSJHglBiRCZ"
   },
   "source": [
    "4-1,2,3. <font color=\"Red\">画像からR,G,Bのうち指定したチャンネルの画像を取得する関数 __get_channel__ を作り、imageの画像のR成分、G成分、B成分のチャンネルの画像を生成し表示なさい。</font>\n",
    "    - 引数は2つ。第一引数は画像（image）、第二引数にはチャンネルを指定する  \n",
    "    - チャンネルの指定は「channel='r'」とすることにより赤、「channel='g'」とすることにより緑、channel='b'」とすることにより青のチャネルの画像が取得できるものとする。\n",
    "    - それ以外のチャンネルが指定された場合は元の画像と同じ画像を出力する\n",
    "    - ただし、引数として与えられた元の画像は変化させないこと\n",
    "ヒント:指定された画素のチャンネルのみの画像を生成するためには、それ以外の値を0とする。例えば、channel='r'とした場合は、Rのみを残し、G,Bの値は0にする。  \n",
    "![実行結果：REDチャンネル画像](img/red.png)\n",
    "![実行結果：GREENチャンネル画像](img/green.png)     \n",
    "![実行結果：BLUEチャンネル画像](img/blue.png) \n",
    "\n"
   ]
  },
  {
   "cell_type": "code",
   "execution_count": null,
   "metadata": {
    "colab": {},
    "colab_type": "code",
    "id": "1n8YuNNgiRCa"
   },
   "outputs": [],
   "source": [
    "def get_channel(image,channel='r'):\n",
    "    # イメージをコピー\n",
    "    new_image = image.copy()\n",
    "    if channel=='r':\n",
    "        # 「r」が指定された場合、「g」「b」は0にする\n",
    "        ###### 問4-1 ###### = 0\n",
    "        ###### 問4-2 ###### = 0\n",
    "    elif channel=='g':\n",
    "         # 「g」が指定された場合、「r」「b」は0にする\n",
    "        ###### 問4-3 ###### = 0\n",
    "        ###### 問4-2 ###### = 0\n",
    "    elif channel=='b':\n",
    "         # 「g」が指定された場合、「r」「b」は0にする\n",
    "        ###### 問4-3 ###### = 0\n",
    "        ###### 問4-1 ###### = 0  \n",
    "    return new_image\n",
    "\n",
    "\n",
    "print(\"REDチャンネル\")\n",
    "image_2 = get_channel(image,channel='r')\n",
    "plt.imshow( image_2 )\n",
    "plt.show()\n",
    "\n",
    "print(\"GREENチャンネル\")\n",
    "image_2 = get_channel(image,channel='g')\n",
    "plt.imshow( image_2 )\n",
    "plt.show()\n",
    "\n",
    "print(\"BLUEチャンネル\")\n",
    "image_2 = get_channel(image,channel='b')\n",
    "plt.imshow( image_2 )\n",
    "plt.show()"
   ]
  },
  {
   "cell_type": "markdown",
   "metadata": {
    "colab_type": "text",
    "id": "m4h2pxLWiRCb"
   },
   "source": [
    "5. <font color=\"Red\">R,G,B画像をグレースケールに変換する __get_channel__ 関数を完成させなさい。グレースケールの画素の計算方法は、R,G,Bそれぞれのチャンネルの画素の平均をとるものとする。</font>\n",
    "    - 引数は画像（image）のみとする  \n",
    "    - 引数として与えられた画像をグレイスケール画像にしたものを戻り値として返す\n",
    "    - ただし、引数として与えられた元の画像は変化させないこと\n",
    "![実行結果：GRAY画像](img/gray.png) "
   ]
  },
  {
   "cell_type": "code",
   "execution_count": null,
   "metadata": {
    "colab": {},
    "colab_type": "code",
    "id": "rVY_gnFAiRCc"
   },
   "outputs": [],
   "source": [
    "def get_gray(img):\n",
    "    img2 = img.copy()\n",
    "    img2[:, :, 0] = ###### 問5 ######\n",
    "    img2[:, :, 1] = ###### 問5 ######\n",
    "    img2[:, :, 2] = ###### 問5 ######\n",
    "    return img2\n",
    "plt.imshow( get_gray(image) )\n",
    "plt.show()"
   ]
  },
  {
   "cell_type": "markdown",
   "metadata": {
    "colab_type": "text",
    "id": "gWSv5-7ZiRCd"
   },
   "source": [
    "6. <font color=\"Red\">画像にランダムノイズを指定する関数 __rand_noize__ 関数を完成させなさい。第一引数は画像、第二引数seedは乱数の種、第三引数pixelsは発生させるノイズのピクセル数とする。この関数を用いると元画像に指定した数だけ白いピクセルをランダムな位置に配置することができる。</font>\n",
    "    - 乱数の種の値は0とする\n",
    "    - ランダムノイズの発生数を1000とする  \n",
    "![実行結果：ランダムノイズ画像](img/rand_noise.png) "
   ]
  },
  {
   "cell_type": "code",
   "execution_count": null,
   "metadata": {
    "colab": {},
    "colab_type": "code",
    "id": "7x_zksGaiRCe"
   },
   "outputs": [],
   "source": [
    "def rand_noize(img, seed, pixels):\n",
    "    np.random.seed(seed)\n",
    "    img2 = img.copy()\n",
    "    for _ in range(pixels):\n",
    "        x = np.random.randint(0, img.shape[0])\n",
    "        y = np.random.randint(0, img.shape[1])\n",
    "        ###### 問6 ###### = 255.\n",
    "    return img2\n",
    "\n",
    "plt.imshow( rand_noize(image, 0, 1000) )\n",
    "plt.show()"
   ]
  },
  {
   "cell_type": "code",
   "execution_count": null,
   "metadata": {
    "colab": {},
    "colab_type": "code",
    "id": "kyyPOc7AiRCh"
   },
   "outputs": [],
   "source": []
  }
 ],
 "metadata": {
  "colab": {
   "name": "Day2演習.ipynb",
   "provenance": []
  },
  "kernelspec": {
   "display_name": "Python 3",
   "language": "python",
   "name": "python3"
  },
  "language_info": {
   "codemirror_mode": {
    "name": "ipython",
    "version": 3
   },
   "file_extension": ".py",
   "mimetype": "text/x-python",
   "name": "python",
   "nbconvert_exporter": "python",
   "pygments_lexer": "ipython3",
   "version": "3.6.8"
  }
 },
 "nbformat": 4,
 "nbformat_minor": 1
}
